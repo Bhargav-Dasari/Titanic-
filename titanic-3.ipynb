{
 "cells": [
  {
   "cell_type": "code",
   "execution_count": 1,
   "id": "1eda3ee2",
   "metadata": {
    "_cell_guid": "b1076dfc-b9ad-4769-8c92-a6c4dae69d19",
    "_uuid": "8f2839f25d086af736a60e9eeb907d3b93b6e0e5",
    "execution": {
     "iopub.execute_input": "2023-10-03T06:28:09.324254Z",
     "iopub.status.busy": "2023-10-03T06:28:09.323908Z",
     "iopub.status.idle": "2023-10-03T06:28:10.504585Z",
     "shell.execute_reply": "2023-10-03T06:28:10.503711Z"
    },
    "papermill": {
     "duration": 1.189116,
     "end_time": "2023-10-03T06:28:10.507992",
     "exception": false,
     "start_time": "2023-10-03T06:28:09.318876",
     "status": "completed"
    },
    "tags": []
   },
   "outputs": [
    {
     "name": "stdout",
     "output_type": "stream",
     "text": [
      "/kaggle/input/titanic/train.csv\n",
      "/kaggle/input/titanic/test.csv\n",
      "/kaggle/input/titanic/gender_submission.csv\n"
     ]
    }
   ],
   "source": [
    "# This Python 3 environment comes with many helpful analytics libraries installed\n",
    "# It is defined by the kaggle/python Docker image: https://github.com/kaggle/docker-python\n",
    "# For example, here's several helpful packages to load\n",
    "\n",
    "import numpy as np # linear algebra\n",
    "import pandas as pd # data processing, CSV file I/O (e.g. pd.read_csv)\n",
    "\n",
    "# Input data files are available in the read-only \"../input/\" directory\n",
    "# For example, running this (by clicking run or pressing Shift+Enter) will list all files under the input directory\n",
    "\n",
    "import os\n",
    "for dirname, _, filenames in os.walk('/kaggle/input'):\n",
    "    for filename in filenames:\n",
    "        print(os.path.join(dirname, filename))\n",
    "\n",
    "# You can write up to 20GB to the current directory (/kaggle/working/) that gets preserved as output when you create a version using \"Save & Run All\" \n",
    "# You can also write temporary files to /kaggle/temp/, but they won't be saved outside of the current session"
   ]
  },
  {
   "cell_type": "code",
   "execution_count": 2,
   "id": "89f50abc",
   "metadata": {
    "execution": {
     "iopub.execute_input": "2023-10-03T06:28:10.516617Z",
     "iopub.status.busy": "2023-10-03T06:28:10.515683Z",
     "iopub.status.idle": "2023-10-03T06:28:10.586317Z",
     "shell.execute_reply": "2023-10-03T06:28:10.585423Z"
    },
    "papermill": {
     "duration": 0.076891,
     "end_time": "2023-10-03T06:28:10.588279",
     "exception": false,
     "start_time": "2023-10-03T06:28:10.511388",
     "status": "completed"
    },
    "tags": []
   },
   "outputs": [
    {
     "data": {
      "text/html": [
       "<div>\n",
       "<style scoped>\n",
       "    .dataframe tbody tr th:only-of-type {\n",
       "        vertical-align: middle;\n",
       "    }\n",
       "\n",
       "    .dataframe tbody tr th {\n",
       "        vertical-align: top;\n",
       "    }\n",
       "\n",
       "    .dataframe thead th {\n",
       "        text-align: right;\n",
       "    }\n",
       "</style>\n",
       "<table border=\"1\" class=\"dataframe\">\n",
       "  <thead>\n",
       "    <tr style=\"text-align: right;\">\n",
       "      <th></th>\n",
       "      <th>Survived</th>\n",
       "      <th>Pclass</th>\n",
       "      <th>Sex</th>\n",
       "      <th>Age</th>\n",
       "      <th>SibSp</th>\n",
       "      <th>Parch</th>\n",
       "      <th>Fare</th>\n",
       "      <th>Embarked</th>\n",
       "    </tr>\n",
       "  </thead>\n",
       "  <tbody>\n",
       "    <tr>\n",
       "      <th>0</th>\n",
       "      <td>0</td>\n",
       "      <td>3</td>\n",
       "      <td>male</td>\n",
       "      <td>22.0</td>\n",
       "      <td>1</td>\n",
       "      <td>0</td>\n",
       "      <td>7.2500</td>\n",
       "      <td>S</td>\n",
       "    </tr>\n",
       "    <tr>\n",
       "      <th>1</th>\n",
       "      <td>1</td>\n",
       "      <td>1</td>\n",
       "      <td>female</td>\n",
       "      <td>38.0</td>\n",
       "      <td>1</td>\n",
       "      <td>0</td>\n",
       "      <td>71.2833</td>\n",
       "      <td>C</td>\n",
       "    </tr>\n",
       "    <tr>\n",
       "      <th>2</th>\n",
       "      <td>1</td>\n",
       "      <td>3</td>\n",
       "      <td>female</td>\n",
       "      <td>26.0</td>\n",
       "      <td>0</td>\n",
       "      <td>0</td>\n",
       "      <td>7.9250</td>\n",
       "      <td>S</td>\n",
       "    </tr>\n",
       "    <tr>\n",
       "      <th>3</th>\n",
       "      <td>1</td>\n",
       "      <td>1</td>\n",
       "      <td>female</td>\n",
       "      <td>35.0</td>\n",
       "      <td>1</td>\n",
       "      <td>0</td>\n",
       "      <td>53.1000</td>\n",
       "      <td>S</td>\n",
       "    </tr>\n",
       "    <tr>\n",
       "      <th>4</th>\n",
       "      <td>0</td>\n",
       "      <td>3</td>\n",
       "      <td>male</td>\n",
       "      <td>35.0</td>\n",
       "      <td>0</td>\n",
       "      <td>0</td>\n",
       "      <td>8.0500</td>\n",
       "      <td>S</td>\n",
       "    </tr>\n",
       "  </tbody>\n",
       "</table>\n",
       "</div>"
      ],
      "text/plain": [
       "   Survived  Pclass     Sex   Age  SibSp  Parch     Fare Embarked\n",
       "0         0       3    male  22.0      1      0   7.2500        S\n",
       "1         1       1  female  38.0      1      0  71.2833        C\n",
       "2         1       3  female  26.0      0      0   7.9250        S\n",
       "3         1       1  female  35.0      1      0  53.1000        S\n",
       "4         0       3    male  35.0      0      0   8.0500        S"
      ]
     },
     "execution_count": 2,
     "metadata": {},
     "output_type": "execute_result"
    }
   ],
   "source": [
    "train_data = pd.read_csv('/kaggle/input/titanic/train.csv' , sep = ',').drop(columns = ['Name', 'Ticket', 'Cabin','PassengerId'], axis = 1)\n",
    "test_data  =  pd.read_csv('/kaggle/input/titanic/test.csv' , sep = ',').drop(columns = ['Name', 'Ticket', 'Cabin', 'PassengerId'], axis = 1)\n",
    "train_data.head()"
   ]
  },
  {
   "cell_type": "code",
   "execution_count": 3,
   "id": "90952e4d",
   "metadata": {
    "execution": {
     "iopub.execute_input": "2023-10-03T06:28:10.594796Z",
     "iopub.status.busy": "2023-10-03T06:28:10.594441Z",
     "iopub.status.idle": "2023-10-03T06:28:12.723967Z",
     "shell.execute_reply": "2023-10-03T06:28:12.722541Z"
    },
    "papermill": {
     "duration": 2.136568,
     "end_time": "2023-10-03T06:28:12.727651",
     "exception": false,
     "start_time": "2023-10-03T06:28:10.591083",
     "status": "completed"
    },
    "tags": []
   },
   "outputs": [
    {
     "name": "stderr",
     "output_type": "stream",
     "text": [
      "/opt/conda/lib/python3.10/site-packages/scipy/__init__.py:146: UserWarning: A NumPy version >=1.16.5 and <1.23.0 is required for this version of SciPy (detected version 1.23.5\n",
      "  warnings.warn(f\"A NumPy version >={np_minversion} and <{np_maxversion}\"\n"
     ]
    }
   ],
   "source": [
    "ohe_train = pd.get_dummies(train_data, columns = ['Sex', 'Embarked'])\n",
    "ohe_test = pd.get_dummies(test_data, columns = ['Sex', 'Embarked'])\n",
    "\n",
    "from sklearn.impute import KNNImputer\n",
    "myknn = KNNImputer(n_neighbors = 7)\n",
    "Y_train = train_data.Survived\n",
    "train_data = pd.DataFrame(myknn.fit_transform(ohe_train.drop(axis = 1, columns = ['Survived'])))\n",
    "test_data  = pd.DataFrame(myknn.transform(ohe_test))"
   ]
  },
  {
   "cell_type": "code",
   "execution_count": 4,
   "id": "be79320d",
   "metadata": {
    "execution": {
     "iopub.execute_input": "2023-10-03T06:28:12.744812Z",
     "iopub.status.busy": "2023-10-03T06:28:12.744328Z",
     "iopub.status.idle": "2023-10-03T06:28:12.752475Z",
     "shell.execute_reply": "2023-10-03T06:28:12.751420Z"
    },
    "papermill": {
     "duration": 0.020026,
     "end_time": "2023-10-03T06:28:12.755614",
     "exception": false,
     "start_time": "2023-10-03T06:28:12.735588",
     "status": "completed"
    },
    "tags": []
   },
   "outputs": [],
   "source": [
    "from sklearn.model_selection import train_test_split\n",
    "x_train,x_test,y_train,y_test = train_test_split(train_data,Y_train,train_size = 0.8, test_size = 0.2, random_state = 0)"
   ]
  },
  {
   "cell_type": "code",
   "execution_count": 5,
   "id": "1030d710",
   "metadata": {
    "execution": {
     "iopub.execute_input": "2023-10-03T06:28:12.771253Z",
     "iopub.status.busy": "2023-10-03T06:28:12.770825Z",
     "iopub.status.idle": "2023-10-03T06:28:26.465007Z",
     "shell.execute_reply": "2023-10-03T06:28:26.464084Z"
    },
    "papermill": {
     "duration": 13.704295,
     "end_time": "2023-10-03T06:28:26.467135",
     "exception": false,
     "start_time": "2023-10-03T06:28:12.762840",
     "status": "completed"
    },
    "tags": []
   },
   "outputs": [],
   "source": [
    "import tensorflow as tf\n",
    "from tensorflow import keras\n",
    "from keras.models import Sequential\n",
    "from keras.layers import Dense"
   ]
  },
  {
   "cell_type": "code",
   "execution_count": null,
   "id": "e572dfad",
   "metadata": {
    "execution": {
     "iopub.execute_input": "2023-10-03T06:28:26.474072Z",
     "iopub.status.busy": "2023-10-03T06:28:26.473592Z",
     "iopub.status.idle": "2023-10-03T06:29:25.507285Z",
     "shell.execute_reply": "2023-10-03T06:29:25.506430Z"
    },
    "papermill": {
     "duration": 59.039832,
     "end_time": "2023-10-03T06:29:25.509873",
     "exception": false,
     "start_time": "2023-10-03T06:28:26.470041",
     "status": "completed"
    },
    "tags": []
   },
   "outputs": [],
   "source": [
    "model = Sequential([\n",
    "    Dense(128,activation='relu'),\n",
    "    Dense(64,activation='relu'),\n",
    "    Dense(1,activation='sigmoid')\n",
    "])\n",
    "model.compile(optimizer= tf.keras.optimizers.Adam(learning_rate=0.0005),\n",
    "              loss = 'binary_crossentropy', metrics = ['accuracy'])\n",
    "\n",
    "history = model.fit(x_train,y_train,batch_size = 50, epochs = 500, \n",
    "                    validation_data = (x_test,y_test))"
   ]
  },
  {
   "cell_type": "code",
   "execution_count": 7,
   "id": "28bd6c0b",
   "metadata": {
    "execution": {
     "iopub.execute_input": "2023-10-03T06:29:25.844532Z",
     "iopub.status.busy": "2023-10-03T06:29:25.844105Z",
     "iopub.status.idle": "2023-10-03T06:29:25.967881Z",
     "shell.execute_reply": "2023-10-03T06:29:25.967009Z"
    },
    "papermill": {
     "duration": 0.31278,
     "end_time": "2023-10-03T06:29:25.970338",
     "exception": false,
     "start_time": "2023-10-03T06:29:25.657558",
     "status": "completed"
    },
    "tags": []
   },
   "outputs": [
    {
     "name": "stdout",
     "output_type": "stream",
     "text": [
      "6/6 [==============================] - 0s 4ms/step - loss: 0.5525 - accuracy: 0.7933\n"
     ]
    },
    {
     "data": {
      "text/plain": [
       "[0.552470862865448, 0.7932960987091064]"
      ]
     },
     "execution_count": 7,
     "metadata": {},
     "output_type": "execute_result"
    }
   ],
   "source": [
    "model.evaluate(x_test,y_test)"
   ]
  },
  {
   "cell_type": "code",
   "execution_count": null,
   "id": "f21bb8bf",
   "metadata": {
    "execution": {
     "iopub.execute_input": "2023-10-03T06:29:26.241524Z",
     "iopub.status.busy": "2023-10-03T06:29:26.241018Z",
     "iopub.status.idle": "2023-10-03T06:29:26.583451Z",
     "shell.execute_reply": "2023-10-03T06:29:26.582560Z"
    },
    "papermill": {
     "duration": 0.47722,
     "end_time": "2023-10-03T06:29:26.585637",
     "exception": false,
     "start_time": "2023-10-03T06:29:26.108417",
     "status": "completed"
    },
    "tags": []
   },
   "outputs": [],
   "source": [
    "a = model.predict(test_data, batch_size = 50)\n",
    "a = np.squeeze(a, axis = 1)\n",
    "a"
   ]
  },
  {
   "cell_type": "code",
   "execution_count": 9,
   "id": "52eb5d65",
   "metadata": {
    "execution": {
     "iopub.execute_input": "2023-10-03T06:29:26.749338Z",
     "iopub.status.busy": "2023-10-03T06:29:26.749064Z",
     "iopub.status.idle": "2023-10-03T06:29:26.754619Z",
     "shell.execute_reply": "2023-10-03T06:29:26.753656Z"
    },
    "papermill": {
     "duration": 0.071955,
     "end_time": "2023-10-03T06:29:26.756245",
     "exception": false,
     "start_time": "2023-10-03T06:29:26.684290",
     "status": "completed"
    },
    "tags": []
   },
   "outputs": [],
   "source": [
    "for i in range(len(a)):\n",
    "    if a[i] < 0.5 :\n",
    "        a[i] = 0\n",
    "    elif a[i] > 0.5:\n",
    "        a[i] = 1\n",
    "        \n",
    "a = a.astype('int32')"
   ]
  },
  {
   "cell_type": "code",
   "execution_count": 10,
   "id": "eb9761e8",
   "metadata": {
    "execution": {
     "iopub.execute_input": "2023-10-03T06:29:26.885989Z",
     "iopub.status.busy": "2023-10-03T06:29:26.885718Z",
     "iopub.status.idle": "2023-10-03T06:29:26.900447Z",
     "shell.execute_reply": "2023-10-03T06:29:26.899465Z"
    },
    "papermill": {
     "duration": 0.08245,
     "end_time": "2023-10-03T06:29:26.902338",
     "exception": false,
     "start_time": "2023-10-03T06:29:26.819888",
     "status": "completed"
    },
    "tags": []
   },
   "outputs": [
    {
     "data": {
      "text/html": [
       "<div>\n",
       "<style scoped>\n",
       "    .dataframe tbody tr th:only-of-type {\n",
       "        vertical-align: middle;\n",
       "    }\n",
       "\n",
       "    .dataframe tbody tr th {\n",
       "        vertical-align: top;\n",
       "    }\n",
       "\n",
       "    .dataframe thead th {\n",
       "        text-align: right;\n",
       "    }\n",
       "</style>\n",
       "<table border=\"1\" class=\"dataframe\">\n",
       "  <thead>\n",
       "    <tr style=\"text-align: right;\">\n",
       "      <th></th>\n",
       "      <th>PassengerId</th>\n",
       "      <th>Survived</th>\n",
       "    </tr>\n",
       "  </thead>\n",
       "  <tbody>\n",
       "    <tr>\n",
       "      <th>0</th>\n",
       "      <td>892</td>\n",
       "      <td>0</td>\n",
       "    </tr>\n",
       "    <tr>\n",
       "      <th>1</th>\n",
       "      <td>893</td>\n",
       "      <td>0</td>\n",
       "    </tr>\n",
       "    <tr>\n",
       "      <th>2</th>\n",
       "      <td>894</td>\n",
       "      <td>0</td>\n",
       "    </tr>\n",
       "    <tr>\n",
       "      <th>3</th>\n",
       "      <td>895</td>\n",
       "      <td>0</td>\n",
       "    </tr>\n",
       "    <tr>\n",
       "      <th>4</th>\n",
       "      <td>896</td>\n",
       "      <td>0</td>\n",
       "    </tr>\n",
       "    <tr>\n",
       "      <th>...</th>\n",
       "      <td>...</td>\n",
       "      <td>...</td>\n",
       "    </tr>\n",
       "    <tr>\n",
       "      <th>413</th>\n",
       "      <td>1305</td>\n",
       "      <td>0</td>\n",
       "    </tr>\n",
       "    <tr>\n",
       "      <th>414</th>\n",
       "      <td>1306</td>\n",
       "      <td>1</td>\n",
       "    </tr>\n",
       "    <tr>\n",
       "      <th>415</th>\n",
       "      <td>1307</td>\n",
       "      <td>0</td>\n",
       "    </tr>\n",
       "    <tr>\n",
       "      <th>416</th>\n",
       "      <td>1308</td>\n",
       "      <td>0</td>\n",
       "    </tr>\n",
       "    <tr>\n",
       "      <th>417</th>\n",
       "      <td>1309</td>\n",
       "      <td>0</td>\n",
       "    </tr>\n",
       "  </tbody>\n",
       "</table>\n",
       "<p>418 rows × 2 columns</p>\n",
       "</div>"
      ],
      "text/plain": [
       "     PassengerId  Survived\n",
       "0            892         0\n",
       "1            893         0\n",
       "2            894         0\n",
       "3            895         0\n",
       "4            896         0\n",
       "..           ...       ...\n",
       "413         1305         0\n",
       "414         1306         1\n",
       "415         1307         0\n",
       "416         1308         0\n",
       "417         1309         0\n",
       "\n",
       "[418 rows x 2 columns]"
      ]
     },
     "execution_count": 10,
     "metadata": {},
     "output_type": "execute_result"
    }
   ],
   "source": [
    "result = pd.DataFrame(a,columns = ['Survived'])\n",
    "passengerid = np.arange(892,1310,1, dtype = 'int32')\n",
    "result['PassengerId'] = pd.Series(passengerid)\n",
    "result = result[['PassengerId', 'Survived']]\n",
    "result"
   ]
  },
  {
   "cell_type": "code",
   "execution_count": 11,
   "id": "dc0500c1",
   "metadata": {
    "execution": {
     "iopub.execute_input": "2023-10-03T06:29:27.043554Z",
     "iopub.status.busy": "2023-10-03T06:29:27.042891Z",
     "iopub.status.idle": "2023-10-03T06:29:27.051949Z",
     "shell.execute_reply": "2023-10-03T06:29:27.050992Z"
    },
    "papermill": {
     "duration": 0.079653,
     "end_time": "2023-10-03T06:29:27.053892",
     "exception": false,
     "start_time": "2023-10-03T06:29:26.974239",
     "status": "completed"
    },
    "tags": []
   },
   "outputs": [],
   "source": [
    "result.to_csv('gender_submission.csv' , sep = ',', index = False)"
   ]
  }
 ],
 "metadata": {
  "kernelspec": {
   "display_name": "Python 3",
   "language": "python",
   "name": "python3"
  },
  "language_info": {
   "codemirror_mode": {
    "name": "ipython",
    "version": 3
   },
   "file_extension": ".py",
   "mimetype": "text/x-python",
   "name": "python",
   "nbconvert_exporter": "python",
   "pygments_lexer": "ipython3",
   "version": "3.10.12"
  },
  "papermill": {
   "default_parameters": {},
   "duration": 85.173231,
   "end_time": "2023-10-03T06:29:30.498698",
   "environment_variables": {},
   "exception": null,
   "input_path": "__notebook__.ipynb",
   "output_path": "__notebook__.ipynb",
   "parameters": {},
   "start_time": "2023-10-03T06:28:05.325467",
   "version": "2.4.0"
  }
 },
 "nbformat": 4,
 "nbformat_minor": 5
}
